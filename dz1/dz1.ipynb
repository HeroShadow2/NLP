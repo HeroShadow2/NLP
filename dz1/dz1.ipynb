{
 "cells": [
  {
   "cell_type": "markdown",
   "metadata": {},
   "source": [
    "# ДЗ №1"
   ]
  },
  {
   "cell_type": "code",
   "execution_count": 37,
   "metadata": {
    "collapsed": true
   },
   "outputs": [],
   "source": [
    "import pandas as pd\n",
    "import numpy as np\n",
    "pd.set_option('display.max_colwidth', 500)"
   ]
  },
  {
   "cell_type": "code",
   "execution_count": 38,
   "metadata": {
    "collapsed": false
   },
   "outputs": [
    {
     "data": {
      "text/html": [
       "<div>\n",
       "<table border=\"1\" class=\"dataframe\">\n",
       "  <thead>\n",
       "    <tr style=\"text-align: right;\">\n",
       "      <th></th>\n",
       "      <th>type</th>\n",
       "      <th>text</th>\n",
       "      <th>is_spam</th>\n",
       "    </tr>\n",
       "  </thead>\n",
       "  <tbody>\n",
       "    <tr>\n",
       "      <th>0</th>\n",
       "      <td>ham</td>\n",
       "      <td>Go until jurong point, crazy.. Available only in bugis n great world la e buffet... Cine there got amore wat...</td>\n",
       "      <td>0</td>\n",
       "    </tr>\n",
       "    <tr>\n",
       "      <th>1</th>\n",
       "      <td>ham</td>\n",
       "      <td>Ok lar... Joking wif u oni...</td>\n",
       "      <td>0</td>\n",
       "    </tr>\n",
       "    <tr>\n",
       "      <th>2</th>\n",
       "      <td>spam</td>\n",
       "      <td>Free entry in 2 a wkly comp to win FA Cup final tkts 21st May 2005. Text FA to 87121 to receive entry question(std txt rate)T&amp;C's apply 08452810075over18's</td>\n",
       "      <td>1</td>\n",
       "    </tr>\n",
       "    <tr>\n",
       "      <th>3</th>\n",
       "      <td>ham</td>\n",
       "      <td>U dun say so early hor... U c already then say...</td>\n",
       "      <td>0</td>\n",
       "    </tr>\n",
       "    <tr>\n",
       "      <th>4</th>\n",
       "      <td>ham</td>\n",
       "      <td>Nah I don't think he goes to usf, he lives around here though</td>\n",
       "      <td>0</td>\n",
       "    </tr>\n",
       "  </tbody>\n",
       "</table>\n",
       "</div>"
      ],
      "text/plain": [
       "   type  \\\n",
       "0   ham   \n",
       "1   ham   \n",
       "2  spam   \n",
       "3   ham   \n",
       "4   ham   \n",
       "\n",
       "                                                                                                                                                          text  \\\n",
       "0                                              Go until jurong point, crazy.. Available only in bugis n great world la e buffet... Cine there got amore wat...   \n",
       "1                                                                                                                                Ok lar... Joking wif u oni...   \n",
       "2  Free entry in 2 a wkly comp to win FA Cup final tkts 21st May 2005. Text FA to 87121 to receive entry question(std txt rate)T&C's apply 08452810075over18's   \n",
       "3                                                                                                            U dun say so early hor... U c already then say...   \n",
       "4                                                                                                Nah I don't think he goes to usf, he lives around here though   \n",
       "\n",
       "   is_spam  \n",
       "0        0  \n",
       "1        0  \n",
       "2        1  \n",
       "3        0  \n",
       "4        0  "
      ]
     },
     "execution_count": 38,
     "metadata": {},
     "output_type": "execute_result"
    }
   ],
   "source": [
    "data = pd.read_csv('smsspamcollection/SMSSpamCollection', delimiter=\"\\t\", names = ('type', 'text'))\n",
    "data['is_spam'] = [0 if d_type == 'ham' else 1 for d_type in data.type]\n",
    "data.head()"
   ]
  },
  {
   "cell_type": "code",
   "execution_count": 39,
   "metadata": {
    "collapsed": false
   },
   "outputs": [
    {
     "data": {
      "text/plain": [
       "ham     4825\n",
       "spam     747\n",
       "Name: type, dtype: int64"
      ]
     },
     "execution_count": 39,
     "metadata": {},
     "output_type": "execute_result"
    }
   ],
   "source": [
    "data.type.value_counts()"
   ]
  },
  {
   "cell_type": "code",
   "execution_count": 40,
   "metadata": {
    "collapsed": false
   },
   "outputs": [
    {
     "name": "stdout",
     "output_type": "stream",
     "text": [
      "(5572, 8713)\n"
     ]
    }
   ],
   "source": [
    "from sklearn.feature_extraction.text import CountVectorizer\n",
    "\n",
    "vectorizer = CountVectorizer()#ngram_range=(1,2))\n",
    "X = vectorizer.fit_transform(data.text)\n",
    "print X.shape"
   ]
  },
  {
   "cell_type": "code",
   "execution_count": 47,
   "metadata": {
    "collapsed": false
   },
   "outputs": [
    {
     "name": "stdout",
     "output_type": "stream",
     "text": [
      "104967\n"
     ]
    },
    {
     "data": {
      "text/plain": [
       "[u'\\xfa1',\n",
       " u'\\xfa1 20',\n",
       " u'\\xfa1 20 poboxox36504w45wq',\n",
       " u'\\u3028ud',\n",
       " u'\\u3028ud evening']"
      ]
     },
     "execution_count": 47,
     "metadata": {},
     "output_type": "execute_result"
    }
   ],
   "source": [
    "# какие получились признаки\n",
    "print len(vectorizer.get_feature_names())\n",
    "vectorizer.get_feature_names()[-5:]"
   ]
  },
  {
   "cell_type": "code",
   "execution_count": 42,
   "metadata": {
    "collapsed": false
   },
   "outputs": [
    {
     "name": "stdout",
     "output_type": "stream",
     "text": [
      "c = 0.01      res = 0.78   std = 0.05\n",
      "c = 0.1       res = 0.90   std = 0.02\n",
      "c = 0.5       res = 0.93   std = 0.02\n",
      "c = 1         res = 0.93   std = 0.02\n",
      "c = 5         res = 0.94   std = 0.02\n",
      "c = 10        res = 0.94   std = 0.02\n",
      "c = 100       res = 0.94   std = 0.02\n",
      "c = 200       res = 0.94   std = 0.02\n",
      "c = 500       res = 0.94   std = 0.02\n",
      "c = 1000      res = 0.94   std = 0.02\n",
      "c = 10000     res = 0.94   std = 0.02\n",
      "c = 15000     res = 0.94   std = 0.02\n",
      "c = 20000     res = 0.94   std = 0.02\n",
      "c = 100000    res = 0.94   std = 0.02\n"
     ]
    }
   ],
   "source": [
    "from sklearn.linear_model import LogisticRegression\n",
    "from sklearn.model_selection import cross_val_score\n",
    "\n",
    "for c in [0.01, 0.1, 0.5, 1, 5, 10, 100, 200, 500, 1000, 10000, 15000, 20000, 100000]:\n",
    "    cls = LogisticRegression(C=c)\n",
    "    res = cross_val_score(cls, X, data.is_spam, scoring=\"f1\", cv=10)\n",
    "    print \"c = {:<7}   res = {:.2f}   std = {:.2f}\".format(c, np.mean(res), np.std(res))"
   ]
  },
  {
   "cell_type": "markdown",
   "metadata": {},
   "source": [
    "Получили качество 0.94"
   ]
  },
  {
   "cell_type": "code",
   "execution_count": 43,
   "metadata": {
    "collapsed": false
   },
   "outputs": [
    {
     "data": {
      "text/plain": [
       "LogisticRegression(C=100000, class_weight=None, dual=False,\n",
       "          fit_intercept=True, intercept_scaling=1, max_iter=100,\n",
       "          multi_class='ovr', n_jobs=1, penalty='l2', random_state=None,\n",
       "          solver='liblinear', tol=0.0001, verbose=0, warm_start=False)"
      ]
     },
     "execution_count": 43,
     "metadata": {},
     "output_type": "execute_result"
    }
   ],
   "source": [
    "cls.fit(X, data.is_spam)"
   ]
  },
  {
   "cell_type": "code",
   "execution_count": 44,
   "metadata": {
    "collapsed": false,
    "scrolled": true
   },
   "outputs": [
    {
     "data": {
      "text/plain": [
       "array([1, 1, 0, 0, 0])"
      ]
     },
     "execution_count": 44,
     "metadata": {},
     "output_type": "execute_result"
    }
   ],
   "source": [
    "tests = [\"FreeMsg: Txt: CALL to No: 86888 & claim your reward of 3 hours talk time to use fromyour phone now! Subscribe6GB\",\n",
    "        \"FreeMsg: Txt: claim your reward of 3 hours talk time\",\n",
    "        \"Have you visited the last lecture on physics?\",\n",
    "        \"Have you visited the last lecture on physics? Just buy this book and you will have all materials! Only 99$\",\n",
    "        \"Only 99$\"]\n",
    "\n",
    "X_test = vectorizer.transform(tests)\n",
    "cls.predict(X_test)"
   ]
  },
  {
   "cell_type": "code",
   "execution_count": 45,
   "metadata": {
    "collapsed": false
   },
   "outputs": [
    {
     "name": "stdout",
     "output_type": "stream",
     "text": [
      "ngram_range = (2, 2)  res = 0.82\n",
      "ngram_range = (3, 3)  res = 0.73\n",
      "ngram_range = (1, 3)  res = 0.93\n"
     ]
    }
   ],
   "source": [
    "#перебираем ngram\n",
    "for ngram_range_ in [(2,2), (3,3), (1,3)]:\n",
    "    vectorizer = CountVectorizer(ngram_range=ngram_range_)\n",
    "    X = vectorizer.fit_transform(data.text)\n",
    "    cls = LogisticRegression()\n",
    "    res = cross_val_score(cls, X, data.is_spam, scoring=\"f1\", cv=10)\n",
    "    print \"ngram_range = {}  res = {:.2f}\".format(ngram_range_, np.mean(res))"
   ]
  },
  {
   "cell_type": "code",
   "execution_count": 46,
   "metadata": {
    "collapsed": false
   },
   "outputs": [
    {
     "name": "stdout",
     "output_type": "stream",
     "text": [
      "ngram_range = (1, 1)  res = 0.93\n",
      "ngram_range = (2, 2)  res = 0.65\n",
      "ngram_range = (3, 3)  res = 0.38\n",
      "ngram_range = (1, 3)  res = 0.89\n"
     ]
    }
   ],
   "source": [
    "#теперь для Naive Bayes\n",
    "from sklearn.naive_bayes import MultinomialNB\n",
    "\n",
    "for ngram_range_ in [(1,1), (2,2), (3,3), (1,3)]:\n",
    "    vectorizer = CountVectorizer(ngram_range=ngram_range_)\n",
    "    X = vectorizer.fit_transform(data.text)\n",
    "    cls = MultinomialNB()\n",
    "    res = cross_val_score(cls, X, data.is_spam, scoring=\"f1\", cv=10)\n",
    "    print \"ngram_range = {}  res = {:.2f}\".format(ngram_range_, np.mean(res))"
   ]
  },
  {
   "cell_type": "markdown",
   "metadata": {},
   "source": [
    "Сравним tf*idf и CountVectorizer"
   ]
  },
  {
   "cell_type": "code",
   "execution_count": 36,
   "metadata": {
    "collapsed": false
   },
   "outputs": [
    {
     "name": "stdout",
     "output_type": "stream",
     "text": [
      "c = 0.01      res_TV = 0.0000   res_CV = 0.8101 \n",
      "c = 0.1       res_TV = 0.0393   res_CV = 0.9025 \n",
      "c = 0.5       res_TV = 0.7611   res_CV = 0.9244 \n",
      "c = 1         res_TV = 0.8529   res_CV = 0.9251 \n",
      "c = 5         res_TV = 0.9174   res_CV = 0.9252 \n",
      "c = 10        res_TV = 0.9224   res_CV = 0.9260 \n",
      "c = 100       res_TV = 0.9314   res_CV = 0.9283 \n",
      "c = 200       res_TV = 0.9329   res_CV = 0.9283 \n",
      "c = 500       res_TV = 0.9344   res_CV = 0.9283 \n",
      "c = 1000      res_TV = 0.9344   res_CV = 0.9291 \n",
      "c = 10000     res_TV = 0.9382   res_CV = 0.9321 \n",
      "c = 15000     res_TV = 0.9382   res_CV = 0.9321 \n",
      "c = 20000     res_TV = 0.9375   res_CV = 0.9321 \n",
      "c = 100000    res_TV = 0.9375   res_CV = 0.9329 \n"
     ]
    }
   ],
   "source": [
    "from sklearn.feature_extraction.text import TfidfVectorizer\n",
    "\n",
    "tfidf = TfidfVectorizer()\n",
    "X_tfidf = tfidf.fit_transform(data.text)\n",
    "\n",
    "for c in [0.01, 0.1, 0.5, 1, 5, 10, 100, 200, 500, 1000, 10000, 15000, 20000, 100000]:\n",
    "    cls = LogisticRegression(C=c)\n",
    "    res_TV = cross_val_score(cls, X_tfidf, data.is_spam, scoring=\"f1\", cv=10)\n",
    "    res_CV = cross_val_score(cls, X, data.is_spam, scoring=\"f1\", cv=10)\n",
    "    print \"c = {:<7}   res_TV = {:.4f}   res_CV = {:.4f} \".format(c, np.mean(res_TV), np.mean(res_CV))"
   ]
  },
  {
   "cell_type": "markdown",
   "metadata": {},
   "source": [
    "Вывод следующий. Благодаря методу BagOfWords можно с помощью лишь логистической регрессии получить неплохую классификацию смс сообощений."
   ]
  }
 ],
 "metadata": {
  "kernelspec": {
   "display_name": "Python 2",
   "language": "python",
   "name": "python2"
  },
  "language_info": {
   "codemirror_mode": {
    "name": "ipython",
    "version": 2
   },
   "file_extension": ".py",
   "mimetype": "text/x-python",
   "name": "python",
   "nbconvert_exporter": "python",
   "pygments_lexer": "ipython2",
   "version": "2.7.12"
  }
 },
 "nbformat": 4,
 "nbformat_minor": 2
}
